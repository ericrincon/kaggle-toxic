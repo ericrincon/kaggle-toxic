{
 "cells": [
  {
   "cell_type": "code",
   "execution_count": 23,
   "metadata": {
    "collapsed": true
   },
   "outputs": [],
   "source": [
    "import pandas as pd\n",
    "import numpy as np\n",
    "\n",
    "from sklearn.feature_extraction.text import TfidfVectorizer\n",
    "from sklearn.linear_model import LogisticRegression\n",
    "from sklearn.model_selection import RandomizedSearchCV, KFold\n",
    "from sklearn.metrics import accuracy_score, log_loss, precision_score, recall_score"
   ]
  },
  {
   "cell_type": "code",
   "execution_count": 24,
   "metadata": {
    "collapsed": true
   },
   "outputs": [],
   "source": [
    "LABEL_COLUMNS = ['toxic', 'severe_toxic', 'obscene', 'threat', 'insult', 'identity_hate']"
   ]
  },
  {
   "cell_type": "code",
   "execution_count": 25,
   "metadata": {
    "collapsed": true
   },
   "outputs": [],
   "source": [
    "train_data = pd.read_csv('../dataset/train.csv')"
   ]
  },
  {
   "cell_type": "code",
   "execution_count": 26,
   "metadata": {
    "collapsed": true
   },
   "outputs": [],
   "source": [
    "test_data = pd.read_csv('../dataset/test.csv')"
   ]
  },
  {
   "cell_type": "code",
   "execution_count": 27,
   "metadata": {
    "collapsed": true
   },
   "outputs": [],
   "source": [
    "documents = pd.concat([train_data.comment_text.astype(str), \n",
    "                       test_data.comment_text.astype(str)], axis=0).reset_index(drop=True)"
   ]
  },
  {
   "cell_type": "code",
   "execution_count": 28,
   "metadata": {
    "collapsed": true
   },
   "outputs": [],
   "source": [
    "vec = TfidfVectorizer(ngram_range=(1,2), min_df=3, max_df=0.9, strip_accents='unicode', use_idf=1,\n",
    "               smooth_idf=1, sublinear_tf=1, max_features=50000)\n",
    "vec.fit(documents)\n",
    "x_train = vec.transform(train_data.comment_text.astype(str))\n",
    "x_test = vec.transform(test_data.comment_text.astype(str))"
   ]
  },
  {
   "cell_type": "code",
   "execution_count": 29,
   "metadata": {},
   "outputs": [],
   "source": [
    "x_train_copy = x_train.copy()"
   ]
  },
  {
   "cell_type": "code",
   "execution_count": 30,
   "metadata": {
    "collapsed": true
   },
   "outputs": [],
   "source": [
    "def pr(x, y_i, y):\n",
    "    \n",
    "    p = x[y==y_i].sum(0)\n",
    "    \n",
    "    return (p+1) / ((y==y_i).sum()+1)"
   ]
  },
  {
   "cell_type": "code",
   "execution_count": 31,
   "metadata": {
    "collapsed": true
   },
   "outputs": [],
   "source": [
    "def get_mdl(x, y, c=4, dual=True):\n",
    "    y = y.values\n",
    "    r = np.log(pr(x, 1,y) / pr(x, 0,y))\n",
    "    \n",
    "    m = LogisticRegression(C=c, dual=dual)\n",
    "    \n",
    "    x_nb = x.multiply(r)\n",
    "    \n",
    "    return m.fit(x_nb, y), r"
   ]
  },
  {
   "cell_type": "code",
   "execution_count": null,
   "metadata": {
    "scrolled": false
   },
   "outputs": [
    {
     "name": "stdout",
     "output_type": "stream",
     "text": [
      "Fitting models on fold: 1\n",
      "Fitting models on fold: 2\n",
      "Fitting models on fold: 3\n",
      "Fitting models on fold: 4\n",
      "Fitting models on fold: 5\n"
     ]
    }
   ],
   "source": [
    "def average(scores):\n",
    "    return float(sum(scores)) / len(scores)\n",
    "\n",
    "def get_label(probs):\n",
    "    probs[probs >= .5 ] = 1\n",
    "    probs[probs < .5] = 0\n",
    "    \n",
    "    return probs\n",
    "\n",
    "def run_kfold(x, y):\n",
    "    k_fold = KFold(n_splits=5, random_state=1234)\n",
    "    fold_scores = {label_column: {'log_loss': [], 'accuracy': [], 'recall': [], 'precision': []}\n",
    "                 for label_column in LABEL_COLUMNS}\n",
    "    for fold_i, (train_index, test_index) in enumerate(k_fold.split(x_train_copy)):\n",
    "        print('Fitting models on fold: {}'.format(fold_i + 1))\n",
    "\n",
    "        for i, label_column in enumerate(LABEL_COLUMNS):\n",
    "            x_train_split, y_train_split = x[train_index, :], y[label_column].iloc[train_index]\n",
    "            x_test_split, y_test_split = x[test_index, :], y[label_column].iloc[test_index]\n",
    "\n",
    "            m,r = get_mdl(x_train_split, y_train_split)\n",
    "\n",
    "            preds = m.predict_proba(x_test_split.multiply(r))[:,1]\n",
    "\n",
    "            log_loss_score = log_loss(y_test_split, preds)\n",
    "\n",
    "            pred_labels = get_label(preds)\n",
    "\n",
    "            accuracy = accuracy_score(y_test_split, pred_labels)\n",
    "            recall = recall_score(y_test_split, pred_labels)\n",
    "            precision = precision_score(y_test_split, pred_labels)\n",
    "\n",
    "            fold_scores[label_column]['log_loss'].append(log_loss_score)\n",
    "            fold_scores[label_column]['accuracy'].append(accuracy)\n",
    "            fold_scores[label_column]['recall'].append(recall)\n",
    "            fold_scores[label_column]['precision'].append(precision)\n",
    "\n",
    "    fold_avgs = {label_column: {score_name: average(fold_scores[label_column][score_name]) \n",
    "                 for score_name in fold_scores['toxic'].keys()} for label_column in LABEL_COLUMNS}\n",
    "\n",
    "    for label_column, score in fold_avgs.items():\n",
    "        print('{} average: {}'.format())\n",
    "\n",
    "    print('Log loss: {}\\nAccuracy: {}\\nRecall: {}\\nPrecision: {}'.format(\n",
    "        log_loss_score_avg, accuracy_avg, recall_avg, precision_avg\n",
    "    ))\n",
    "\n",
    "    print('-------------------------------------------------')\n",
    "\n",
    " \n",
    "                 "
   ]
  },
  {
   "cell_type": "code",
   "execution_count": null,
   "metadata": {
    "collapsed": true
   },
   "outputs": [],
   "source": [
    "submission = pd.concat([test_data.id.to_frame(), pd.DataFrame(preds, columns = LABEL_COLUMNS, dtype=float)], axis=1)\n",
    "submission.to_csv('logistic_submission.csv', index=False)"
   ]
  },
  {
   "cell_type": "code",
   "execution_count": null,
   "metadata": {
    "collapsed": true
   },
   "outputs": [],
   "source": []
  }
 ],
 "metadata": {
  "kernelspec": {
   "display_name": "Python 3",
   "language": "python",
   "name": "python3"
  },
  "language_info": {
   "codemirror_mode": {
    "name": "ipython",
    "version": 3
   },
   "file_extension": ".py",
   "mimetype": "text/x-python",
   "name": "python",
   "nbconvert_exporter": "python",
   "pygments_lexer": "ipython3",
   "version": "3.5.2"
  }
 },
 "nbformat": 4,
 "nbformat_minor": 2
}
