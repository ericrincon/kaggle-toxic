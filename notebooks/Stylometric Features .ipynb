{
 "cells": [
  {
   "cell_type": "code",
   "execution_count": 1,
   "metadata": {},
   "outputs": [],
   "source": [
    "%load_ext autoreload\n",
    "%autoreload 2"
   ]
  },
  {
   "cell_type": "code",
   "execution_count": 2,
   "metadata": {},
   "outputs": [],
   "source": [
    "import pandas as pd\n",
    "import re\n",
    "\n",
    "from toxic_text.features.stylometric.lexical import CharacterFeatures\n",
    "from toxic_text.features.stylometric.word import WordFeatures"
   ]
  },
  {
   "cell_type": "code",
   "execution_count": 3,
   "metadata": {
    "collapsed": true
   },
   "outputs": [],
   "source": [
    "df_train = pd.read_csv('../dataset/train.csv')"
   ]
  },
  {
   "cell_type": "code",
   "execution_count": 4,
   "metadata": {
    "collapsed": true
   },
   "outputs": [],
   "source": [
    "df_test = pd.read_csv('../dataset/test.csv')"
   ]
  },
  {
   "cell_type": "code",
   "execution_count": 7,
   "metadata": {
    "collapsed": true
   },
   "outputs": [],
   "source": [
    "def get_features(docs):\n",
    "    char_features = CharacterFeatures(docs)\n",
    "    \n",
    "    upper_case_ratio = char_features.upper_case_ratio()\n",
    "    char_count = char_features.get_char_count()\n",
    "    nb_exclamation_points = char_features.get_nb_exclamation_points()\n",
    "    \n",
    "    word_features = WordFeatures(docs)\n",
    "    herdans_c = word_features.get_herdans_c(docs)\n",
    "    avg_word_length = word_features.get_average_word_length()\n",
    "    word_counts = word_features.get_word_counts()\n",
    "    \n",
    "    features = pd.concat([upper_case_ratio, char_count, nb_exclamation_points, \n",
    "                         herdans_c, avg_word_length, word_counts], axis=1)\n",
    "    features.columns = ['upper_case_ratio', 'char_count', 'nb_exclamation_points', \n",
    "                         'herdans_c', 'avg_word_length', 'word_counts']\n",
    "    \n",
    "    return features"
   ]
  },
  {
   "cell_type": "code",
   "execution_count": 8,
   "metadata": {},
   "outputs": [],
   "source": [
    "train_features = get_features(df_train.comment_text)"
   ]
  },
  {
   "cell_type": "code",
   "execution_count": 9,
   "metadata": {
    "collapsed": true
   },
   "outputs": [],
   "source": [
    "test_features = get_features(df_test.comment_text)"
   ]
  },
  {
   "cell_type": "code",
   "execution_count": 15,
   "metadata": {},
   "outputs": [],
   "source": [
    "train_features.to_csv('../dataset/meta_train.csv', index=False)"
   ]
  },
  {
   "cell_type": "code",
   "execution_count": 16,
   "metadata": {
    "collapsed": true
   },
   "outputs": [],
   "source": [
    "test_features.to_csv('../dataset/meta_test.csv', index=False)"
   ]
  }
 ],
 "metadata": {
  "kernelspec": {
   "display_name": "Python 3",
   "language": "python",
   "name": "python3"
  },
  "language_info": {
   "codemirror_mode": {
    "name": "ipython",
    "version": 3
   },
   "file_extension": ".py",
   "mimetype": "text/x-python",
   "name": "python",
   "nbconvert_exporter": "python",
   "pygments_lexer": "ipython3",
   "version": "3.5.2"
  }
 },
 "nbformat": 4,
 "nbformat_minor": 2
}
