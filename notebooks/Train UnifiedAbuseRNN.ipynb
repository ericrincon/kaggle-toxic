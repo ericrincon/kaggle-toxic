{
 "cells": [
  {
   "cell_type": "code",
   "execution_count": 1,
   "metadata": {},
   "outputs": [],
   "source": [
    "# use autoload to keep updated with underlying code\n",
    "%load_ext autoreload\n",
    "%autoreload 2"
   ]
  },
  {
   "cell_type": "code",
   "execution_count": 13,
   "metadata": {},
   "outputs": [],
   "source": [
    "import pandas as pd\n",
    "import numpy as np\n",
    "import tensorflow as tf\n",
    "\n",
    "from toxic_text.models.keras.rnn import UnifiedAbuseRNN\n",
    "from toxic_text.train.experiment import setup_training_data, create_embedding_matrix"
   ]
  },
  {
   "cell_type": "code",
   "execution_count": 3,
   "metadata": {
    "collapsed": true
   },
   "outputs": [],
   "source": [
    "from tensorflow.python.client import device_lib\n",
    "\n",
    "def get_available_devices():  \n",
    "    local_device_protos = device_lib.list_local_devices()\n",
    "    return [x.name for x in local_device_protos]"
   ]
  },
  {
   "cell_type": "code",
   "execution_count": 4,
   "metadata": {},
   "outputs": [
    {
     "data": {
      "text/plain": [
       "['/device:CPU:0', '/device:GPU:0']"
      ]
     },
     "execution_count": 4,
     "metadata": {},
     "output_type": "execute_result"
    }
   ],
   "source": [
    "get_available_devices()"
   ]
  },
  {
   "cell_type": "code",
   "execution_count": 56,
   "metadata": {
    "collapsed": true
   },
   "outputs": [],
   "source": [
    "args = {\n",
    "    'seq_length': 50,\n",
    "    'max_words': 25000,\n",
    "    'train': '../dataset/preprocessed_train.csv',\n",
    "    'word2vec': \"/home/eric/Documents/word_vectors/GloVe/glove_6B_300d.vec\"\n",
    "}"
   ]
  },
  {
   "cell_type": "markdown",
   "metadata": {},
   "source": [
    "# Load Data"
   ]
  },
  {
   "cell_type": "code",
   "execution_count": 57,
   "metadata": {
    "collapsed": true
   },
   "outputs": [],
   "source": [
    "meta_train = pd.read_csv('../dataset/meta_train.csv').as_matrix()"
   ]
  },
  {
   "cell_type": "code",
   "execution_count": 58,
   "metadata": {},
   "outputs": [],
   "source": [
    "x_train, y_train, tokenizer, vocab_size = setup_training_data(args)"
   ]
  },
  {
   "cell_type": "code",
   "execution_count": 80,
   "metadata": {},
   "outputs": [
    {
     "name": "stdout",
     "output_type": "stream",
     "text": [
      "Loading word vectors at /home/eric/Documents/word_vectors/GloVe/glove_6B_300d.vec...\n"
     ]
    }
   ],
   "source": [
    "embedding_matrix, embedding_dim = create_embedding_matrix(args, tokenizer=tokenizer,\n",
    "                                                          vocab_size=vocab_size)"
   ]
  },
  {
   "cell_type": "markdown",
   "metadata": {},
   "source": [
    "# Create Model"
   ]
  },
  {
   "cell_type": "code",
   "execution_count": 81,
   "metadata": {
    "scrolled": false
   },
   "outputs": [],
   "source": [
    "with tf.device('/gpu:0'):\n",
    "    model = UnifiedAbuseRNN(\n",
    "        input_length=args['seq_length'],\n",
    "        vocab_size=vocab_size,\n",
    "        nb_metadata_features=meta_train.shape[1],\n",
    "        embedding_weights=embedding_matrix,\n",
    "        embedding_dim=embedding_dim\n",
    "    )"
   ]
  },
  {
   "cell_type": "code",
   "execution_count": 82,
   "metadata": {
    "scrolled": false
   },
   "outputs": [
    {
     "name": "stdout",
     "output_type": "stream",
     "text": [
      "__________________________________________________________________________________________________\n",
      "Layer (type)                    Output Shape         Param #     Connected to                     \n",
      "==================================================================================================\n",
      "word_input (InputLayer)         (None, 50)           0                                            \n",
      "__________________________________________________________________________________________________\n",
      "embedding_12 (Embedding)        (None, 50, 300)      7500300     word_input[0][0]                 \n",
      "__________________________________________________________________________________________________\n",
      "bidirectional_11 (Bidirectional (None, 50, 100)      105600      embedding_12[0][0]               \n",
      "__________________________________________________________________________________________________\n",
      "global_max_pooling1d_11 (Global (None, 100)          0           bidirectional_11[0][0]           \n",
      "__________________________________________________________________________________________________\n",
      "global_average_pooling1d_11 (Gl (None, 100)          0           bidirectional_11[0][0]           \n",
      "__________________________________________________________________________________________________\n",
      "concatenate_21 (Concatenate)    (None, 200)          0           global_max_pooling1d_11[0][0]    \n",
      "                                                                 global_average_pooling1d_11[0][0]\n",
      "__________________________________________________________________________________________________\n",
      "metadata_input (InputLayer)     (None, 6)            0                                            \n",
      "__________________________________________________________________________________________________\n",
      "dense_21 (Dense)                (None, 50)           10050       concatenate_21[0][0]             \n",
      "__________________________________________________________________________________________________\n",
      "dense_22 (Dense)                (None, 50)           350         metadata_input[0][0]             \n",
      "__________________________________________________________________________________________________\n",
      "concatenate_22 (Concatenate)    (None, 100)          0           dense_21[0][0]                   \n",
      "                                                                 dense_22[0][0]                   \n",
      "__________________________________________________________________________________________________\n",
      "output (Dense)                  (None, 6)            606         concatenate_22[0][0]             \n",
      "==================================================================================================\n",
      "Total params: 7,616,906\n",
      "Trainable params: 7,616,906\n",
      "Non-trainable params: 0\n",
      "__________________________________________________________________________________________________\n"
     ]
    }
   ],
   "source": [
    "model.model_a.summary()"
   ]
  },
  {
   "cell_type": "code",
   "execution_count": 83,
   "metadata": {},
   "outputs": [
    {
     "name": "stdout",
     "output_type": "stream",
     "text": [
      "__________________________________________________________________________________________________\n",
      "Layer (type)                    Output Shape         Param #     Connected to                     \n",
      "==================================================================================================\n",
      "word_input (InputLayer)         (None, 50)           0                                            \n",
      "__________________________________________________________________________________________________\n",
      "embedding_13 (Embedding)        (None, 50, 300)      7500300     word_input[0][0]                 \n",
      "__________________________________________________________________________________________________\n",
      "bidirectional_12 (Bidirectional (None, 50, 100)      105600      embedding_13[0][0]               \n",
      "__________________________________________________________________________________________________\n",
      "global_max_pooling1d_12 (Global (None, 100)          0           bidirectional_12[0][0]           \n",
      "__________________________________________________________________________________________________\n",
      "global_average_pooling1d_12 (Gl (None, 100)          0           bidirectional_12[0][0]           \n",
      "__________________________________________________________________________________________________\n",
      "concatenate_23 (Concatenate)    (None, 200)          0           global_max_pooling1d_12[0][0]    \n",
      "                                                                 global_average_pooling1d_12[0][0]\n",
      "__________________________________________________________________________________________________\n",
      "metadata_input (InputLayer)     (None, 6)            0                                            \n",
      "__________________________________________________________________________________________________\n",
      "dense_23 (Dense)                (None, 50)           10050       concatenate_23[0][0]             \n",
      "__________________________________________________________________________________________________\n",
      "dense_24 (Dense)                (None, 50)           350         metadata_input[0][0]             \n",
      "__________________________________________________________________________________________________\n",
      "concatenate_24 (Concatenate)    (None, 100)          0           dense_23[0][0]                   \n",
      "                                                                 dense_24[0][0]                   \n",
      "__________________________________________________________________________________________________\n",
      "output (Dense)                  (None, 6)            606         concatenate_24[0][0]             \n",
      "==================================================================================================\n",
      "Total params: 7,616,906\n",
      "Trainable params: 7,616,906\n",
      "Non-trainable params: 0\n",
      "__________________________________________________________________________________________________\n"
     ]
    }
   ],
   "source": [
    "model.model_b.summary()"
   ]
  },
  {
   "cell_type": "code",
   "execution_count": null,
   "metadata": {
    "scrolled": false
   },
   "outputs": [
    {
     "name": "stdout",
     "output_type": "stream",
     "text": [
      "[(128, 50), (128, 6)]\n"
     ]
    }
   ],
   "source": [
    "model.train([x_train, meta_train], y_train, 10, 128, learning_rate=0.001)"
   ]
  },
  {
   "cell_type": "code",
   "execution_count": null,
   "metadata": {},
   "outputs": [],
   "source": [
    "model.model_a.get_layer('embedding_4').get_weights()"
   ]
  },
  {
   "cell_type": "code",
   "execution_count": null,
   "metadata": {
    "collapsed": true
   },
   "outputs": [],
   "source": []
  }
 ],
 "metadata": {
  "kernelspec": {
   "display_name": "Python 3",
   "language": "python",
   "name": "python3"
  },
  "language_info": {
   "codemirror_mode": {
    "name": "ipython",
    "version": 3
   },
   "file_extension": ".py",
   "mimetype": "text/x-python",
   "name": "python",
   "nbconvert_exporter": "python",
   "pygments_lexer": "ipython3",
   "version": "3.5.2"
  }
 },
 "nbformat": 4,
 "nbformat_minor": 2
}
