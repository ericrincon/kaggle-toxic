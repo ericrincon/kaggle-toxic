{
 "cells": [
  {
   "cell_type": "code",
   "execution_count": 87,
   "metadata": {},
   "outputs": [],
   "source": [
    "import pandas as pd\n",
    "from gensim.models.ldamodel import LdaModel\n",
    "from gensim.corpora import Dictionary"
   ]
  },
  {
   "cell_type": "code",
   "execution_count": 88,
   "metadata": {
    "collapsed": true
   },
   "outputs": [],
   "source": [
    "train_df = pd.read_csv('../dataset/preprocessed_train.csv')\n",
    "test_df = pd.read_csv('../dataset/preprocessed_test.csv')"
   ]
  },
  {
   "cell_type": "code",
   "execution_count": 89,
   "metadata": {
    "collapsed": true
   },
   "outputs": [],
   "source": [
    "corpus = pd.concat([train_df.comment_text, test_df.comment_text]).reset_index(drop=True).dropna().astype(str)"
   ]
  },
  {
   "cell_type": "code",
   "execution_count": 90,
   "metadata": {
    "collapsed": true
   },
   "outputs": [],
   "source": [
    "corpus_split = corpus.str.split()"
   ]
  },
  {
   "cell_type": "code",
   "execution_count": 91,
   "metadata": {
    "collapsed": true
   },
   "outputs": [],
   "source": [
    "from gensim import corpora, models\n",
    "\n",
    "dictionary = corpora.Dictionary(corpus_split)"
   ]
  },
  {
   "cell_type": "code",
   "execution_count": 92,
   "metadata": {
    "collapsed": true
   },
   "outputs": [],
   "source": [
    "corpus_BoW = [dictionary.doc2bow(text) for text in corpus_split]\n"
   ]
  },
  {
   "cell_type": "code",
   "execution_count": 93,
   "metadata": {
    "collapsed": true
   },
   "outputs": [],
   "source": [
    "lda = LdaModel(corpus_BoW, id2word=dictionary, num_topics=50)"
   ]
  },
  {
   "cell_type": "code",
   "execution_count": 94,
   "metadata": {
    "collapsed": true
   },
   "outputs": [],
   "source": [
    "import pyLDAvis"
   ]
  },
  {
   "cell_type": "code",
   "execution_count": 95,
   "metadata": {
    "collapsed": true
   },
   "outputs": [],
   "source": [
    "topics = {topic_id: words for (topic_id, words) in lda.print_topics(num_topics=50)}"
   ]
  },
  {
   "cell_type": "code",
   "execution_count": 96,
   "metadata": {},
   "outputs": [
    {
     "data": {
      "text/plain": [
       "dict_keys([0, 1, 2, 3, 4, 5, 6, 7, 8, 9, 10, 11, 12, 13, 14, 15, 16, 17, 18, 19, 20, 21, 22, 23, 24, 25, 26, 27, 28, 29, 30, 31, 32, 33, 34, 35, 36, 37, 38, 39, 40, 41, 42, 43, 44, 45, 46, 47, 48, 49])"
      ]
     },
     "execution_count": 96,
     "metadata": {},
     "output_type": "execute_result"
    }
   ],
   "source": [
    "topics.keys()"
   ]
  },
  {
   "cell_type": "code",
   "execution_count": 106,
   "metadata": {},
   "outputs": [
    {
     "name": "stdout",
     "output_type": "stream",
     "text": [
      "0.059*\"cock\" + 0.029*\"film\" + 0.028*\"sucks\" + 0.026*\"man\" + 0.017*\"season\" + 0.016*\"hit\" + 0.016*\"episode\" + 0.015*\"king\" + 0.015*\"cawk\" + 0.015*\"movie\"\n",
      "\n",
      "0.062*\"help\" + 0.036*\"thank\" + 0.034*\"welcome\" + 0.030*\"pages\" + 0.023*\"hello\" + 0.023*\"ask\" + 0.022*\"hope\" + 0.021*\"articles\" + 0.019*\"editing\" + 0.017*\"question\"\n",
      "\n",
      "0.040*\"dont\" + 0.035*\"im\" + 0.023*\"good\" + 0.016*\"ive\" + 0.015*\"thats\" + 0.015*\"got\" + 0.015*\"time\" + 0.014*\"right\" + 0.014*\"going\" + 0.013*\"sorry\"\n",
      "\n",
      "0.059*\"deletion\" + 0.046*\"deleted\" + 0.032*\"articles\" + 0.031*\"ahole\" + 0.031*\"notable\" + 0.028*\"speedy\" + 0.027*\"tag\" + 0.022*\"note\" + 0.021*\"remove\" + 0.021*\"guidelines\"\n",
      "\n",
      "0.038*\"list\" + 0.018*\"added\" + 0.017*\"references\" + 0.015*\"articles\" + 0.015*\"needs\" + 0.012*\"changes\" + 0.012*\"section\" + 0.011*\"reference\" + 0.010*\"add\" + 0.010*\"info\"\n",
      "\n",
      "0.027*\"official\" + 0.026*\"youi\" + 0.023*\"children\" + 0.018*\"women\" + 0.016*\"names\" + 0.015*\"men\" + 0.012*\"happens\" + 0.011*\"drop\" + 0.010*\"born\" + 0.010*\"child\"\n",
      "\n",
      "0.048*\"reverted\" + 0.041*\"want\" + 0.036*\"look\" + 0.036*\"learn\" + 0.036*\"removed\" + 0.020*\"test\" + 0.019*\"worked\" + 0.018*\"sandbox\" + 0.018*\"fat\" + 0.017*\"thanks\"\n",
      "\n",
      "0.031*\"de\" + 0.017*\"jews\" + 0.016*\"jewish\" + 0.014*\"la\" + 0.011*\"killed\" + 0.010*\"religious\" + 0.010*\"evil\" + 0.010*\"secondary\" + 0.008*\"traitor\" + 0.008*\"mass\"\n",
      "\n",
      "0.047*\"stop\" + 0.042*\"editing\" + 0.041*\"blocked\" + 0.041*\"user\" + 0.038*\"edits\" + 0.038*\"admins\" + 0.035*\"vandalism\" + 0.033*\"block\" + 0.026*\"continue\" + 0.022*\"account\"\n",
      "\n",
      "0.074*\"penis\" + 0.054*\"jizz\" + 0.032*\"school\" + 0.018*\"video\" + 0.015*\"games\" + 0.015*\"uk\" + 0.015*\"class\" + 0.014*\"serbia\" + 0.013*\"fuckshit\" + 0.012*\"kids\"\n",
      "\n",
      "0.045*\"delete\" + 0.044*\"game\" + 0.033*\"template\" + 0.027*\"proposed\" + 0.020*\"notice\" + 0.016*\"idiots\" + 0.014*\"fight\" + 0.013*\"ugly\" + 0.013*\"moon\" + 0.012*\"explain\"\n",
      "\n"
     ]
    }
   ],
   "source": [
    "for topic, p in lda.get_document_topics(training_BoW[0]):\n",
    "    print(topics[topic])\n",
    "    print()"
   ]
  },
  {
   "cell_type": "code",
   "execution_count": null,
   "metadata": {},
   "outputs": [],
   "source": [
    "for topic, p in lda.get_document_topics(training_BoW[1]):\n",
    "    print(topics[topic])\n",
    "    print()"
   ]
  },
  {
   "cell_type": "code",
   "execution_count": null,
   "metadata": {},
   "outputs": [],
   "source": [
    "train_df.comment_text[0]"
   ]
  },
  {
   "cell_type": "code",
   "execution_count": null,
   "metadata": {},
   "outputs": [],
   "source": [
    "train_df.comment_text[1]"
   ]
  },
  {
   "cell_type": "code",
   "execution_count": 107,
   "metadata": {
    "collapsed": true
   },
   "outputs": [],
   "source": [
    "dictionary.save('../lda_models/lda_1/dictionary.d')"
   ]
  },
  {
   "cell_type": "code",
   "execution_count": 108,
   "metadata": {
    "collapsed": true
   },
   "outputs": [],
   "source": [
    "lda.save('../lda_models/lda_1/lda.lda')"
   ]
  },
  {
   "cell_type": "markdown",
   "metadata": {
    "collapsed": true
   },
   "source": [
    "## Get LDA Features"
   ]
  },
  {
   "cell_type": "code",
   "execution_count": 104,
   "metadata": {},
   "outputs": [],
   "source": [
    "from keras.preprocessing.sequence import pad_sequences\n",
    "\n",
    "def get_lda_features(lda_model, texts, maxlen):    \n",
    "    \"\"\"\n",
    "    Add one to the lda topic for embedding purposes as padding is 0 we do not want to \n",
    "    represent padding as a topic embedding\n",
    "    \"\"\"\n",
    "    return pad_sequences(list(map(lambda text: \n",
    "                         list(map(lambda x: x[0] + 1,\n",
    "                                  lda_model.get_document_topics(text))), texts)), maxlen=maxlen)\n",
    "    "
   ]
  },
  {
   "cell_type": "code",
   "execution_count": 105,
   "metadata": {},
   "outputs": [],
   "source": [
    "training_BoW = list(map(lambda text: dictionary.doc2bow(text), train_df.comment_text.astype(str).str.split()))\n",
    "test_BoW = list(map(lambda text: dictionary.doc2bow(text), test_df.comment_text.astype(str).str.split()))"
   ]
  },
  {
   "cell_type": "code",
   "execution_count": 109,
   "metadata": {
    "collapsed": true
   },
   "outputs": [],
   "source": [
    "train_lda_matrix = get_lda_features(lda, training_BoW, 10)"
   ]
  },
  {
   "cell_type": "code",
   "execution_count": 110,
   "metadata": {
    "collapsed": true
   },
   "outputs": [],
   "source": [
    "test_lda_matrix = get_lda_features(lda, test_BoW, 10)"
   ]
  },
  {
   "cell_type": "code",
   "execution_count": 111,
   "metadata": {},
   "outputs": [],
   "source": [
    "import numpy as np\n",
    "\n",
    "np.save(open('../lda_features/train.npy', 'wb'), train_lda_matrix)\n",
    "np.save(open('../lda_features/test.npy', 'wb'), test_lda_matrix)"
   ]
  },
  {
   "cell_type": "code",
   "execution_count": null,
   "metadata": {
    "collapsed": true
   },
   "outputs": [],
   "source": []
  }
 ],
 "metadata": {
  "kernelspec": {
   "display_name": "Python 3",
   "language": "python",
   "name": "python3"
  },
  "language_info": {
   "codemirror_mode": {
    "name": "ipython",
    "version": 3
   },
   "file_extension": ".py",
   "mimetype": "text/x-python",
   "name": "python",
   "nbconvert_exporter": "python",
   "pygments_lexer": "ipython3",
   "version": "3.5.2"
  }
 },
 "nbformat": 4,
 "nbformat_minor": 2
}
