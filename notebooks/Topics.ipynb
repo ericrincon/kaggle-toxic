{
 "cells": [
  {
   "cell_type": "code",
   "execution_count": 4,
   "metadata": {},
   "outputs": [
    {
     "name": "stderr",
     "output_type": "stream",
     "text": [
      "/home/eric/.local/lib/python3.5/site-packages/scipy/sparse/sparsetools.py:20: DeprecationWarning: `scipy.sparse.sparsetools` is deprecated!\n",
      "scipy.sparse.sparsetools is a private module for scipy.sparse, and should not be used.\n",
      "  _deprecated()\n"
     ]
    }
   ],
   "source": [
    "import pandas as pd\n",
    "from gensim.models.ldamodel import LdaModel\n",
    "from gensim.corpora import Dictionary"
   ]
  },
  {
   "cell_type": "code",
   "execution_count": 5,
   "metadata": {
    "collapsed": true
   },
   "outputs": [],
   "source": [
    "train_df = pd.read_csv('../dataset/preprocessed_train.csv')\n",
    "test_df = pd.read_csv('../dataset/preprocessed_test.csv')"
   ]
  },
  {
   "cell_type": "code",
   "execution_count": 6,
   "metadata": {
    "collapsed": true
   },
   "outputs": [],
   "source": [
    "corpus = pd.concat([train_df.comment_text, test_df.comment_text]).reset_index(drop=True).dropna().astype(str)"
   ]
  },
  {
   "cell_type": "code",
   "execution_count": 7,
   "metadata": {
    "collapsed": true
   },
   "outputs": [],
   "source": [
    "corpus_split = corpus.str.split()"
   ]
  },
  {
   "cell_type": "code",
   "execution_count": 8,
   "metadata": {
    "collapsed": true
   },
   "outputs": [],
   "source": [
    "from gensim import corpora, models\n",
    "\n",
    "dictionary = corpora.Dictionary(corpus_split)"
   ]
  },
  {
   "cell_type": "code",
   "execution_count": 9,
   "metadata": {
    "collapsed": true
   },
   "outputs": [],
   "source": [
    "corpus_BoW = [dictionary.doc2bow(text) for text in corpus_split]\n"
   ]
  },
  {
   "cell_type": "code",
   "execution_count": 10,
   "metadata": {
    "collapsed": true
   },
   "outputs": [],
   "source": [
    "lda = LdaModel(corpus_BoW, id2word=dictionary, num_topics=50)"
   ]
  },
  {
   "cell_type": "code",
   "execution_count": 11,
   "metadata": {
    "collapsed": true
   },
   "outputs": [],
   "source": [
    "import pyLDAvis"
   ]
  },
  {
   "cell_type": "code",
   "execution_count": 34,
   "metadata": {
    "collapsed": true
   },
   "outputs": [],
   "source": [
    "topics = {topic_id: words for (topic_id, words) in lda.print_topics(num_topics=50)}"
   ]
  },
  {
   "cell_type": "code",
   "execution_count": 81,
   "metadata": {},
   "outputs": [
    {
     "data": {
      "text/plain": [
       "dict_keys([0, 1, 2, 3, 4, 5, 6, 7, 8, 9, 10, 11, 12, 13, 14, 15, 16, 17, 18, 19, 20, 21, 22, 23, 24, 25, 26, 27, 28, 29, 30, 31, 32, 33, 34, 35, 36, 37, 38, 39, 40, 41, 42, 43, 44, 45, 46, 47, 48, 49])"
      ]
     },
     "execution_count": 81,
     "metadata": {},
     "output_type": "execute_result"
    }
   ],
   "source": [
    "topics.keys()"
   ]
  },
  {
   "cell_type": "code",
   "execution_count": 37,
   "metadata": {},
   "outputs": [
    {
     "name": "stdout",
     "output_type": "stream",
     "text": [
      "0.085*\"edits\" + 0.042*\"warning\" + 0.035*\"constructive\" + 0.026*\"vandalism\" + 0.024*\"user\" + 0.021*\"reverted\" + 0.020*\"block\" + 0.019*\"making\" + 0.019*\"remove\" + 0.018*\"report\"\n",
      "\n",
      "0.030*\"utc\" + 0.028*\"th\" + 0.021*\"july\" + 0.020*\"june\" + 0.020*\"january\" + 0.020*\"august\" + 0.020*\"march\" + 0.019*\"september\" + 0.018*\"october\" + 0.018*\"december\"\n",
      "\n",
      "0.108*\"externalink\" + 0.081*\"penis\" + 0.079*\"externallink\" + 0.028*\"email\" + 0.025*\"fellow\" + 0.025*\"apologies\" + 0.021*\"best\" + 0.020*\"reviewing\" + 0.020*\"checked\" + 0.019*\"set\"\n",
      "\n",
      "0.050*\"dont\" + 0.037*\"im\" + 0.020*\"youre\" + 0.019*\"want\" + 0.017*\"right\" + 0.015*\"thats\" + 0.015*\"going\" + 0.014*\"said\" + 0.012*\"things\" + 0.012*\"wrong\"\n",
      "\n"
     ]
    }
   ],
   "source": [
    "for topic, p in lda.get_document_topics(training_BoW[0]):\n",
    "    print(topics[topic])\n",
    "    print()"
   ]
  },
  {
   "cell_type": "code",
   "execution_count": 38,
   "metadata": {},
   "outputs": [
    {
     "name": "stdout",
     "output_type": "stream",
     "text": [
      "0.077*\"editing\" + 0.052*\"continue\" + 0.050*\"ip\" + 0.046*\"address\" + 0.036*\"unconstructive\" + 0.034*\"pages\" + 0.031*\"blocked\" + 0.029*\"account\" + 0.026*\"stop\" + 0.024*\"didnt\"\n",
      "\n",
      "0.082*\"links\" + 0.076*\"link\" + 0.040*\"automated\" + 0.036*\"external\" + 0.020*\"added\" + 0.015*\"add\" + 0.015*\"legitimate\" + 0.014*\"greek\" + 0.014*\"bots\" + 0.013*\"information\"\n",
      "\n"
     ]
    }
   ],
   "source": [
    "for topic, p in lda.get_document_topics(training_BoW[1]):\n",
    "    print(topics[topic])\n",
    "    print()"
   ]
  },
  {
   "cell_type": "code",
   "execution_count": 39,
   "metadata": {},
   "outputs": [
    {
     "data": {
      "text/plain": [
       "'nonsense kiss geek said true ill account terminated'"
      ]
     },
     "execution_count": 39,
     "metadata": {},
     "output_type": "execute_result"
    }
   ],
   "source": [
    "train_df.comment_text[0]"
   ]
  },
  {
   "cell_type": "code",
   "execution_count": 40,
   "metadata": {},
   "outputs": [
    {
     "data": {
      "text/plain": [
       "'vandalize pages w merwin continue blocked editing'"
      ]
     },
     "execution_count": 40,
     "metadata": {},
     "output_type": "execute_result"
    }
   ],
   "source": [
    "train_df.comment_text[1]"
   ]
  },
  {
   "cell_type": "code",
   "execution_count": 41,
   "metadata": {
    "collapsed": true
   },
   "outputs": [],
   "source": [
    "dictionary.save('../lda_models/lda_1/dictionary.d')"
   ]
  },
  {
   "cell_type": "code",
   "execution_count": 42,
   "metadata": {
    "collapsed": true
   },
   "outputs": [],
   "source": [
    "lda.save('../lda_models/lda_1/lda.lda')"
   ]
  },
  {
   "cell_type": "markdown",
   "metadata": {
    "collapsed": true
   },
   "source": [
    "## Get LDA Features"
   ]
  },
  {
   "cell_type": "code",
   "execution_count": 82,
   "metadata": {
    "collapsed": true
   },
   "outputs": [],
   "source": [
    "from keras.preprocessing.sequence import pad_sequences\n",
    "\n",
    "def get_lda_features(lda_model, texts, maxlen):    \n",
    "    \"\"\"\n",
    "    Add one to the lda topic for embedding purposes as padding is 0 we do not want to \n",
    "    represent padding as a topic embedding\n",
    "    \"\"\"\n",
    "    return pad_sequences(list(map(lambda text: \n",
    "                         list(map(lambda x: x[0] + 1,\n",
    "                                  lda_model.get_document_topics(text))), texts)), maxlen=maxlen)\n",
    "    "
   ]
  },
  {
   "cell_type": "code",
   "execution_count": 83,
   "metadata": {
    "collapsed": true
   },
   "outputs": [],
   "source": [
    "training_BoW = map(lambda text: dictionary.doc2bow(text), train_df.comment_text.astype(str).str.split())\n",
    "test_BoW = map(lambda text: dictionary.doc2bow(text), test_df.comment_text.astype(str).str.split())"
   ]
  },
  {
   "cell_type": "code",
   "execution_count": 84,
   "metadata": {
    "collapsed": true
   },
   "outputs": [],
   "source": [
    "train_lda_matrix = get_lda_features(lda, training_BoW, 10)"
   ]
  },
  {
   "cell_type": "code",
   "execution_count": 85,
   "metadata": {
    "collapsed": true
   },
   "outputs": [],
   "source": [
    "test_lda_matrix = get_lda_features(lda, test_BoW, 10)"
   ]
  },
  {
   "cell_type": "code",
   "execution_count": 86,
   "metadata": {},
   "outputs": [],
   "source": [
    "import numpy as np\n",
    "\n",
    "np.save(open('../lda_features/train.npy', 'wb'), train_lda_matrix)\n",
    "np.save(open('../lda_features/test.npy', 'wb'), test_lda_matrix)"
   ]
  },
  {
   "cell_type": "code",
   "execution_count": null,
   "metadata": {
    "collapsed": true
   },
   "outputs": [],
   "source": []
  }
 ],
 "metadata": {
  "kernelspec": {
   "display_name": "Python 3",
   "language": "python",
   "name": "python3"
  },
  "language_info": {
   "codemirror_mode": {
    "name": "ipython",
    "version": 3
   },
   "file_extension": ".py",
   "mimetype": "text/x-python",
   "name": "python",
   "nbconvert_exporter": "python",
   "pygments_lexer": "ipython3",
   "version": "3.5.2"
  }
 },
 "nbformat": 4,
 "nbformat_minor": 2
}
