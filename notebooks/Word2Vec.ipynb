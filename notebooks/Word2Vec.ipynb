{
 "cells": [
  {
   "cell_type": "markdown",
   "metadata": {},
   "source": [
    "## Word2Vec Training"
   ]
  },
  {
   "cell_type": "code",
   "execution_count": 2,
   "metadata": {},
   "outputs": [
    {
     "name": "stderr",
     "output_type": "stream",
     "text": [
      "Using TensorFlow backend.\n"
     ]
    }
   ],
   "source": [
    "import pandas as pd\n",
    "import re\n",
    "\n",
    "from keras.preprocessing.text import Tokenizer\n",
    "from keras.preprocessing.sequence import pad_sequences\n",
    "from keras.preprocessing.text import text_to_word_sequence\n",
    "from gensim.models.word2vec import Word2Vec"
   ]
  },
  {
   "cell_type": "code",
   "execution_count": null,
   "metadata": {
    "collapsed": true
   },
   "outputs": [],
   "source": [
    "SIZE = 256"
   ]
  },
  {
   "cell_type": "code",
   "execution_count": 4,
   "metadata": {},
   "outputs": [],
   "source": [
    "train_data = pd.read_csv('../dataset/preprocessed_train.csv')\n",
    "test_data = pd.read_csv('../dataset/preprocessed_test.csv')"
   ]
  },
  {
   "cell_type": "code",
   "execution_count": 5,
   "metadata": {
    "collapsed": true
   },
   "outputs": [],
   "source": [
    "texts = pd.concat([train_data.comment_text, test_data.comment_text]).reset_index(drop=True).astype(str)"
   ]
  },
  {
   "cell_type": "code",
   "execution_count": 6,
   "metadata": {
    "collapsed": true
   },
   "outputs": [],
   "source": [
    "split_texts = texts.str.split()"
   ]
  },
  {
   "cell_type": "code",
   "execution_count": 7,
   "metadata": {
    "collapsed": true
   },
   "outputs": [],
   "source": [
    "cbow_model = Word2Vec(split_texts, size=SIZE, window=5, min_count=5, workers=4, iter=20, sg=0)"
   ]
  },
  {
   "cell_type": "code",
   "execution_count": 8,
   "metadata": {
    "collapsed": true
   },
   "outputs": [],
   "source": [
    "sg_model = Word2Vec(split_texts, size=SIZE, window=5, min_count=5, workers=4, iter=20, sg=1)"
   ]
  },
  {
   "cell_type": "code",
   "execution_count": 9,
   "metadata": {},
   "outputs": [
    {
     "data": {
      "text/plain": [
       "[('crap', 0.7703706622123718),\n",
       " ('fucking', 0.7326945662498474),\n",
       " ('sht', 0.6743785738945007),\n",
       " ('prick', 0.6647347807884216),\n",
       " ('fcking', 0.635749340057373),\n",
       " ('jerk', 0.623875081539154),\n",
       " ('bullshit', 0.6221607327461243),\n",
       " ('bitch', 0.6220687031745911),\n",
       " ('ass', 0.618916392326355),\n",
       " ('motherfucker', 0.617165207862854)]"
      ]
     },
     "execution_count": 9,
     "metadata": {},
     "output_type": "execute_result"
    }
   ],
   "source": [
    "cbow_model.wv.most_similar('shit')"
   ]
  },
  {
   "cell_type": "code",
   "execution_count": 10,
   "metadata": {},
   "outputs": [
    {
     "data": {
      "text/plain": [
       "[('niggaeat', 0.7350426912307739),\n",
       " ('jforget', 0.7186273336410522),\n",
       " ('ashit', 0.7065167427062988),\n",
       " ('cocksucking', 0.7054377794265747),\n",
       " ('shgit', 0.7034720182418823),\n",
       " ('fucking', 0.6929883360862732),\n",
       " ('shioty', 0.6903347969055176),\n",
       " ('muther', 0.6866276264190674),\n",
       " ('motherfucking', 0.6823300123214722),\n",
       " ('shoit', 0.6807100176811218)]"
      ]
     },
     "execution_count": 10,
     "metadata": {},
     "output_type": "execute_result"
    }
   ],
   "source": [
    "sg_model.wv.most_similar('shit')"
   ]
  },
  {
   "cell_type": "code",
   "execution_count": 11,
   "metadata": {},
   "outputs": [
    {
     "data": {
      "text/plain": [
       "[('jdelanoy', 0.69721519947052),\n",
       " ('licker', 0.6285507678985596),\n",
       " ('whore', 0.5673508048057556),\n",
       " ('ushitty', 0.5672944784164429),\n",
       " ('chink', 0.5396068692207336),\n",
       " ('tommy', 0.5262713432312012),\n",
       " ('nigga', 0.5210607647895813),\n",
       " ('scumbag', 0.5192665457725525),\n",
       " ('twat', 0.5149549245834351),\n",
       " ('wiggerfuckk', 0.5147606134414673)]"
      ]
     },
     "execution_count": 11,
     "metadata": {},
     "output_type": "execute_result"
    }
   ],
   "source": [
    "cbow_model.wv.most_similar('nigger')"
   ]
  },
  {
   "cell_type": "code",
   "execution_count": 12,
   "metadata": {},
   "outputs": [
    {
     "data": {
      "text/plain": [
       "[('niggeryou', 0.7393275499343872),\n",
       " ('ushitty', 0.7244306802749634),\n",
       " ('wiggerfuckk', 0.6946378946304321),\n",
       " ('licker', 0.6851290464401245),\n",
       " ('jdelanoy', 0.6738438606262207),\n",
       " ('jforget', 0.6639078259468079),\n",
       " ('asswhole', 0.6614518761634827),\n",
       " ('dickface', 0.6563987731933594),\n",
       " ('faggotjsk', 0.6178982853889465),\n",
       " ('dickheadfuck', 0.6089807748794556)]"
      ]
     },
     "execution_count": 12,
     "metadata": {},
     "output_type": "execute_result"
    }
   ],
   "source": [
    "sg_model.wv.most_similar('nigger')"
   ]
  },
  {
   "cell_type": "code",
   "execution_count": 15,
   "metadata": {},
   "outputs": [],
   "source": [
    "cbow_model.save('../word2vec_models/english_cbow.w2v')"
   ]
  },
  {
   "cell_type": "code",
   "execution_count": 16,
   "metadata": {},
   "outputs": [],
   "source": [
    "sg_model.save('../word2vec_models/english_sg.w2v')"
   ]
  },
  {
   "cell_type": "code",
   "execution_count": null,
   "metadata": {
    "collapsed": true
   },
   "outputs": [],
   "source": []
  }
 ],
 "metadata": {
  "kernelspec": {
   "display_name": "Python 3",
   "language": "python",
   "name": "python3"
  },
  "language_info": {
   "codemirror_mode": {
    "name": "ipython",
    "version": 3
   },
   "file_extension": ".py",
   "mimetype": "text/x-python",
   "name": "python",
   "nbconvert_exporter": "python",
   "pygments_lexer": "ipython3",
   "version": "3.5.2"
  }
 },
 "nbformat": 4,
 "nbformat_minor": 2
}
