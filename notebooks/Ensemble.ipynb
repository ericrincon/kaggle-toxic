{
 "cells": [
  {
   "cell_type": "code",
   "execution_count": 61,
   "metadata": {
    "collapsed": true
   },
   "outputs": [],
   "source": [
    "import pandas as pd\n",
    "import os"
   ]
  },
  {
   "cell_type": "code",
   "execution_count": 62,
   "metadata": {
    "collapsed": true
   },
   "outputs": [],
   "source": [
    "TARGET_NAMES = ['toxic', 'severe_toxic', 'obscene', 'threat',\n",
    "                        'insult', 'identity_hate']"
   ]
  },
  {
   "cell_type": "code",
   "execution_count": 63,
   "metadata": {
    "collapsed": true
   },
   "outputs": [],
   "source": [
    "def read_dir(dir_path):\n",
    "    files = os.listdir(dir_path)\n",
    "    dfs = [pd.read_csv(os.path.join(dir_path, file_path)) for file_path in files]\n",
    "    \n",
    "    return dfs\n",
    "    \n",
    "    "
   ]
  },
  {
   "cell_type": "code",
   "execution_count": 69,
   "metadata": {
    "collapsed": true
   },
   "outputs": [],
   "source": [
    "dfs = read_dir('../enesmbles/w2v_ensemble_cbow/')"
   ]
  },
  {
   "cell_type": "code",
   "execution_count": 70,
   "metadata": {
    "collapsed": true
   },
   "outputs": [],
   "source": [
    "def simple_ensemble(dfs):\n",
    "    ensemble = dfs.pop()\n",
    "    \n",
    "    for df in dfs:\n",
    "        ensemble = ensemble.loc[:, TARGET_NAMES].add(df.loc[:, TARGET_NAMES])\n",
    "        \n",
    "    ensemble = ensemble / (len(dfs) + 1)\n",
    "    ensemble[ensemble.loc[:, TARGET_NAMES] > 1] = 1\n",
    "    ensemble[ensemble.loc[:, TARGET_NAMES] < 0] = 0\n",
    "    \n",
    "    return ensemble"
   ]
  },
  {
   "cell_type": "code",
   "execution_count": 71,
   "metadata": {
    "collapsed": true
   },
   "outputs": [],
   "source": [
    "ensemble = simple_ensemble(dfs)"
   ]
  },
  {
   "cell_type": "code",
   "execution_count": 72,
   "metadata": {
    "collapsed": true
   },
   "outputs": [],
   "source": [
    "ensemble_df = pd.concat([dfs[0].id.to_frame(), ensemble], axis=1)"
   ]
  },
  {
   "cell_type": "code",
   "execution_count": 73,
   "metadata": {
    "collapsed": true
   },
   "outputs": [],
   "source": [
    "ensemble_df.to_csv('w2v_ensemble.csv', index=False)"
   ]
  },
  {
   "cell_type": "code",
   "execution_count": null,
   "metadata": {
    "collapsed": true
   },
   "outputs": [],
   "source": []
  }
 ],
 "metadata": {
  "kernelspec": {
   "display_name": "Python 3",
   "language": "python",
   "name": "python3"
  },
  "language_info": {
   "codemirror_mode": {
    "name": "ipython",
    "version": 3
   },
   "file_extension": ".py",
   "mimetype": "text/x-python",
   "name": "python",
   "nbconvert_exporter": "python",
   "pygments_lexer": "ipython3",
   "version": "3.5.2"
  }
 },
 "nbformat": 4,
 "nbformat_minor": 2
}
