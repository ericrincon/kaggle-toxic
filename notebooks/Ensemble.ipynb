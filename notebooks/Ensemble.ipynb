{
 "cells": [
  {
   "cell_type": "code",
   "execution_count": 297,
   "metadata": {
    "collapsed": true
   },
   "outputs": [],
   "source": [
    "import pandas as pd\n",
    "import os"
   ]
  },
  {
   "cell_type": "code",
   "execution_count": 298,
   "metadata": {
    "collapsed": true
   },
   "outputs": [],
   "source": [
    "TARGET_NAMES = ['toxic', 'severe_toxic', 'obscene', 'threat',\n",
    "                        'insult', 'identity_hate']"
   ]
  },
  {
   "cell_type": "code",
   "execution_count": 299,
   "metadata": {
    "collapsed": true
   },
   "outputs": [],
   "source": [
    "def read_dir(dir_path):\n",
    "    files = os.listdir(dir_path)\n",
    "    dfs = [pd.read_csv(os.path.join(dir_path, file_path)) for file_path in files]\n",
    "    \n",
    "    return dfs\n",
    "    \n",
    "    "
   ]
  },
  {
   "cell_type": "code",
   "execution_count": 300,
   "metadata": {
    "collapsed": true
   },
   "outputs": [],
   "source": [
    "dfs = read_dir('../enesmbles/300_glove_6b_ensemble_lda/lda/')"
   ]
  },
  {
   "cell_type": "code",
   "execution_count": 301,
   "metadata": {
    "collapsed": true
   },
   "outputs": [],
   "source": [
    "def simple_ensemble(dfs):\n",
    "    ensemble = dfs.pop()\n",
    "    \n",
    "    for df in dfs:\n",
    "        ensemble = ensemble.loc[:, TARGET_NAMES].add(df.loc[:, TARGET_NAMES])\n",
    "        \n",
    "    ensemble = ensemble / (len(dfs) + 1)\n",
    "    ensemble[ensemble.loc[:, TARGET_NAMES] > 1] = 1\n",
    "    ensemble[ensemble.loc[:, TARGET_NAMES] < 0] = 0\n",
    "    \n",
    "    return ensemble"
   ]
  },
  {
   "cell_type": "code",
   "execution_count": 302,
   "metadata": {},
   "outputs": [
    {
     "name": "stdout",
     "output_type": "stream",
     "text": [
      "2\n"
     ]
    }
   ],
   "source": [
    "print(len(dfs))"
   ]
  },
  {
   "cell_type": "code",
   "execution_count": 303,
   "metadata": {
    "collapsed": true
   },
   "outputs": [],
   "source": [
    "ensemble = simple_ensemble(dfs)"
   ]
  },
  {
   "cell_type": "code",
   "execution_count": 304,
   "metadata": {
    "collapsed": true
   },
   "outputs": [],
   "source": [
    "ensemble_df = pd.concat([dfs[0].id.to_frame(), ensemble], axis=1)"
   ]
  },
  {
   "cell_type": "code",
   "execution_count": 305,
   "metadata": {
    "collapsed": true
   },
   "outputs": [],
   "source": [
    "ensemble_df.to_csv('300_glove_ensemble_lda.csv', index=False)"
   ]
  },
  {
   "cell_type": "code",
   "execution_count": 283,
   "metadata": {
    "collapsed": true
   },
   "outputs": [],
   "source": [
    "rankings = {name: {} for name in TARGET_NAMES}\n",
    "\n",
    "for i, df in enumerate(dfs):\n",
    "    index = list(range(len(dfs)))\n",
    "    index.pop(i)\n",
    "    \n",
    "    for ind in index: \n",
    "        corr = df.corrwith(dfs[ind])\n",
    "        \n",
    "        for name in TARGET_NAMES:\n",
    "            if i > ind:\n",
    "                key_index = '{}_{}'.format(i, ind)\n",
    "            else:\n",
    "                key_index = '{}_{}'.format(ind, i)\n",
    "            rankings[name][key_index] = corr[name]\n",
    "                    \n",
    "    "
   ]
  },
  {
   "cell_type": "code",
   "execution_count": 284,
   "metadata": {
    "collapsed": true
   },
   "outputs": [],
   "source": [
    "import operator\n",
    "\n",
    "def get_sorted_rankings(rankings_dict):\n",
    "    return {key: sorted(correlation_dict.items(), key=operator.itemgetter(1), reverse=False) \n",
    "                   for (key, correlation_dict) in rankings_dict.items()}    "
   ]
  },
  {
   "cell_type": "code",
   "execution_count": 285,
   "metadata": {
    "collapsed": true
   },
   "outputs": [],
   "source": [
    "sorted_rankings = get_sorted_rankings(rankings)"
   ]
  },
  {
   "cell_type": "code",
   "execution_count": 286,
   "metadata": {
    "collapsed": true
   },
   "outputs": [],
   "source": [
    "def get_top_n(sorted_rankings, dfs, n):\n",
    "    assert n > 0, 'n must be greater than 0!'\n",
    "    \n",
    "    ensemble_df = {}\n",
    "    \n",
    "    for name in TARGET_NAMES:\n",
    "        sorted_ranking = sorted_rankings[name][:n-1]\n",
    "        \n",
    "        df_ids = set([])\n",
    "        \n",
    "        \n",
    "        for key, _ in sorted_ranking:\n",
    "            df_1, df_2 = key.split('_')\n",
    "            \n",
    "            df_1, df_2 = int(df_1), int(df_2)\n",
    "            \n",
    "            df_ids.add(df_1)\n",
    "            df_ids.add(df_2)\n",
    "        \n",
    "        df_ids = list(df_ids)\n",
    "        df_id = df_ids.pop(0)\n",
    "        \n",
    "        df = dfs[df_id][name]\n",
    "        \n",
    "        for df_id in df_ids:\n",
    "            df = df.add(dfs[df_id][name])\n",
    "\n",
    "        ensemble_df[name] = df.divide(len(df_ids))\n",
    "    ensemble = pd.DataFrame(ensemble_df)\n",
    "    ensemble[ensemble.loc[:, TARGET_NAMES] > 1] = 1\n",
    "    ensemble[ensemble.loc[:, TARGET_NAMES] < 0] = 0\n",
    "        \n",
    "        \n",
    "    return ensemble\n"
   ]
  },
  {
   "cell_type": "code",
   "execution_count": 287,
   "metadata": {
    "scrolled": true
   },
   "outputs": [],
   "source": [
    "ensemble = get_top_n(sorted_rankings, dfs, 3)"
   ]
  },
  {
   "cell_type": "code",
   "execution_count": 288,
   "metadata": {
    "collapsed": true
   },
   "outputs": [],
   "source": [
    "ensemble = pd.concat([dfs[0].id.to_frame(), ensemble], axis=1)"
   ]
  },
  {
   "cell_type": "code",
   "execution_count": 289,
   "metadata": {
    "collapsed": true
   },
   "outputs": [],
   "source": [
    "ensemble.to_csv('corr_ensemble_lda.csv', index=False)"
   ]
  },
  {
   "cell_type": "code",
   "execution_count": null,
   "metadata": {
    "collapsed": true
   },
   "outputs": [],
   "source": []
  }
 ],
 "metadata": {
  "kernelspec": {
   "display_name": "Python 3",
   "language": "python",
   "name": "python3"
  },
  "language_info": {
   "codemirror_mode": {
    "name": "ipython",
    "version": 3
   },
   "file_extension": ".py",
   "mimetype": "text/x-python",
   "name": "python",
   "nbconvert_exporter": "python",
   "pygments_lexer": "ipython3",
   "version": "3.5.2"
  }
 },
 "nbformat": 4,
 "nbformat_minor": 2
}
